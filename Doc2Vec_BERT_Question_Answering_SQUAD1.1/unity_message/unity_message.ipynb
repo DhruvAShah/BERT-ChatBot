{
 "cells": [
  {
   "cell_type": "code",
   "execution_count": 1,
   "metadata": {},
   "outputs": [],
   "source": [
    "import os\n",
    "import numpy as np\n",
    "import spacy\n",
    "import gensim\n",
    "import collections\n",
    "import smart_open\n",
    "import random\n",
    "\n",
    "\n"
   ]
  },
  {
   "cell_type": "code",
   "execution_count": 2,
   "metadata": {},
   "outputs": [],
   "source": [
    "nlp = spacy.load('en_core_web_lg')"
   ]
  },
  {
   "cell_type": "code",
   "execution_count": 3,
   "metadata": {},
   "outputs": [],
   "source": [
    "query = \"Fetch my messages related to sports\"\n",
    "\n",
    "query = nlp(query)\n",
    "\n",
    "entity = []\n",
    "\n",
    "for token in query:\n",
    "    if token.pos_ == 'PROPN' or token.pos_ == 'NOUN':\n",
    "        entity.append(token.text.lower())\n"
   ]
  },
  {
   "cell_type": "code",
   "execution_count": 5,
   "metadata": {},
   "outputs": [
    {
     "name": "stdout",
     "output_type": "stream",
     "text": [
      "['messages', 'sports']\n"
     ]
    }
   ],
   "source": [
    "print(entity)"
   ]
  },
  {
   "cell_type": "code",
   "execution_count": 14,
   "metadata": {},
   "outputs": [],
   "source": [
    "# Set file names for train and test data\n",
    "#test_data_dir = '{}'.format(os.sep).join([gensim.__path__[0], 'test', 'test_data'])\n",
    "test_data_dir = '/home/unity/IVR/ConversationalIvr/utility/unity_message'\n",
    "lee_train_file = test_data_dir + os.sep + 'train_question.cor'\n",
    "lee_test_file = test_data_dir + os.sep + 'test_question.cor'\n",
    "train_answer_file = test_data_dir + os.sep + 'train_answer.cor'\n",
    "vocab_file = '/home/unity/IVR/ConversationalIvr/utility' + os.sep + 'text8'\n",
    "\n",
    "\n",
    "\n",
    "def read_corpus(fname, tokens_only=False):\n",
    "    with smart_open.smart_open(fname, encoding=\"iso-8859-1\") as f:\n",
    "        for i, line in enumerate(f):\n",
    "            if tokens_only:\n",
    "                yield gensim.utils.simple_preprocess(line)\n",
    "            else:\n",
    "                # For training data, add tags\n",
    "                yield gensim.models.doc2vec.TaggedDocument(gensim.utils.simple_preprocess(line), [i])\n",
    "\n",
    "def train_model():\n",
    "    model = gensim.models.doc2vec.Doc2Vec(vector_size=1024, min_count=1, epochs=10000, window=2, dbow_words=1, dm=1)\n",
    "    model.build_vocab(train_corpus)\n",
    "    model.train(train_corpus, total_examples=model.corpus_count, epochs=model.epochs)\n",
    "    model.save(\"doc2vec_unity_message\")\n",
    "    return model\n",
    "\n",
    "def load_model():\n",
    "    model_name = '/home/unity/IVR/ConversationalIvr/utility/unity_message/doc2vec_unity_message'\n",
    "    model = gensim.models.doc2vec.Doc2Vec.load(model_name)\n",
    "    return model"
   ]
  },
  {
   "cell_type": "code",
   "execution_count": 55,
   "metadata": {},
   "outputs": [
    {
     "name": "stdout",
     "output_type": "stream",
     "text": [
      "Reading Corpus for doc2vec\n",
      "Reading corpus completed\n"
     ]
    }
   ],
   "source": [
    "def test_model(query):\n",
    "    # Load the Pre-Trained Model on Question Answer Data Set #\n",
    "    print ('Load the Model')\n",
    "    model = load_model()\n",
    "    ranks = []\n",
    "    second_ranks = []\n",
    "    query = model.infer_vector(query.split(\" \"))\n",
    "    #doc_id = random.randint(0, len(train_corpus) - 1)\n",
    "    #inferred_vector = model.infer_vector(train_corpus[doc_id].words)\n",
    "    sims = model.docvecs.most_similar([query], topn=len(model.docvecs))\n",
    "    print (sims)\n",
    "\n",
    "    print('Question ({}): «{}»\\n'.format(sims[0][0], ' '.join(train_corpus[sims[0][0]].words)))\n",
    "    print('Answer  ({}): «{}»\\n'.format(sims[0][0], ' '.join(train_answer_corpus[sims[0][0]].words)))\n",
    "    print(\"Question Score\",sims[0][1])\n",
    "    if sims[0][1] > 0.7:        \n",
    "        answer = ' '.join(train_answer_corpus[sims[0][0]].words)\n",
    "        return answer\n",
    "    else:\n",
    "        answer = \"Sorry i am not very sure what to answer for this query\"\n",
    "        return answer\n",
    "\n",
    "print(\"Reading Corpus for doc2vec\")\n",
    "train_corpus = list(read_corpus(lee_train_file))\n",
    "train_answer_corpus = list(read_corpus(train_answer_file))\n",
    "print(\"Reading corpus completed\")\n",
    "\n",
    "model = train_model()"
   ]
  },
  {
   "cell_type": "code",
   "execution_count": 61,
   "metadata": {},
   "outputs": [
    {
     "name": "stdout",
     "output_type": "stream",
     "text": [
      "Load the Model\n",
      "[(9, 0.6435563564300537), (10, 0.44871705770492554), (3, 0.4264877438545227), (4, 0.3911691904067993), (8, 0.36687171459198), (1, 0.3431747257709503), (2, 0.2703357934951782), (5, 0.20731395483016968), (0, 0.18818405270576477), (7, 0.04478814825415611), (6, -0.05610649660229683)]\n",
      "Question (9): «speech to text not coming on the web inbox»\n",
      "\n",
      "Answer  (9): «two mazor reasons are there one is hold until transcription recieved check can be there and second is certificat expiration»\n",
      "\n",
      "Question Score 0.6435563564300537\n"
     ]
    },
    {
     "name": "stderr",
     "output_type": "stream",
     "text": [
      "/usr/local/lib/python3.6/dist-packages/gensim/matutils.py:737: FutureWarning: Conversion of the second argument of issubdtype from `int` to `np.signedinteger` is deprecated. In future, it will be treated as `np.int64 == np.dtype(int).type`.\n",
      "  if np.issubdtype(vec.dtype, np.int):\n"
     ]
    },
    {
     "data": {
      "text/plain": [
       "'Sorry i am not very sure what to answer for this query'"
      ]
     },
     "execution_count": 61,
     "metadata": {},
     "output_type": "execute_result"
    }
   ],
   "source": [
    "query = \"Speech to text not for web inbox?\"\n",
    "test_model (query)"
   ]
  },
  {
   "cell_type": "code",
   "execution_count": null,
   "metadata": {},
   "outputs": [],
   "source": []
  }
 ],
 "metadata": {
  "kernelspec": {
   "display_name": "Python 3",
   "language": "python",
   "name": "python3"
  },
  "language_info": {
   "codemirror_mode": {
    "name": "ipython",
    "version": 3
   },
   "file_extension": ".py",
   "mimetype": "text/x-python",
   "name": "python",
   "nbconvert_exporter": "python",
   "pygments_lexer": "ipython3",
   "version": "3.6.7"
  }
 },
 "nbformat": 4,
 "nbformat_minor": 4
}
